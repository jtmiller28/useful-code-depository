{
 "cells": [
  {
   "cell_type": "markdown",
   "id": "9248c000-8eb6-4d72-a463-b15f11f52775",
   "metadata": {},
   "source": [
    "### Importing with from"
   ]
  },
  {
   "cell_type": "markdown",
   "id": "b5f20bf4-5143-479f-8fcd-6c9a03485192",
   "metadata": {},
   "source": [
    "You can import everything from a module in the following way"
   ]
  },
  {
   "cell_type": "code",
   "execution_count": 1,
   "id": "cd211a1d-a782-4e6d-a673-c500d223d92b",
   "metadata": {},
   "outputs": [],
   "source": [
    "import math"
   ]
  },
  {
   "cell_type": "code",
   "execution_count": 2,
   "id": "8e14cebb-6008-4f3e-a273-92a74f3611f5",
   "metadata": {},
   "outputs": [
    {
     "data": {
      "text/plain": [
       "3.141592653589793"
      ]
     },
     "execution_count": 2,
     "metadata": {},
     "output_type": "execute_result"
    }
   ],
   "source": [
    "math.pi"
   ]
  },
  {
   "cell_type": "code",
   "execution_count": 4,
   "id": "c0f29dd0-d24a-44e0-85b6-896c2fdf2344",
   "metadata": {},
   "outputs": [
    {
     "ename": "NameError",
     "evalue": "name 'pi' is not defined",
     "output_type": "error",
     "traceback": [
      "\u001b[0;31m---------------------------------------------------------------------------\u001b[0m",
      "\u001b[0;31mNameError\u001b[0m                                 Traceback (most recent call last)",
      "Cell \u001b[0;32mIn[4], line 1\u001b[0m\n\u001b[0;32m----> 1\u001b[0m \u001b[38;5;28mprint\u001b[39m(\u001b[43mpi\u001b[49m)\n",
      "\u001b[0;31mNameError\u001b[0m: name 'pi' is not defined"
     ]
    }
   ],
   "source": [
    "print(pi) # However, note that now we have to define where we're getting the variable by putting math prior "
   ]
  },
  {
   "cell_type": "markdown",
   "id": "b36b2b12-4369-4983-938b-c53a4d51413a",
   "metadata": {},
   "source": [
    "the import naming convention can also be changed however. "
   ]
  },
  {
   "cell_type": "code",
   "execution_count": 5,
   "id": "5f1add11-a9de-4fe4-b9b3-557210bfebb2",
   "metadata": {},
   "outputs": [],
   "source": [
    "import math as m"
   ]
  },
  {
   "cell_type": "code",
   "execution_count": 6,
   "id": "02c08d8b-ae24-4b95-b59d-305ab7dfcdb1",
   "metadata": {},
   "outputs": [
    {
     "data": {
      "text/plain": [
       "3.141592653589793"
      ]
     },
     "execution_count": 6,
     "metadata": {},
     "output_type": "execute_result"
    }
   ],
   "source": [
    "m.pi"
   ]
  },
  {
   "cell_type": "markdown",
   "id": "fc593cfa-3279-425c-8177-21affedd7a43",
   "metadata": {},
   "source": [
    "We can also choose to import a value from the package directly, so we dont have to call the module.value each time. "
   ]
  },
  {
   "cell_type": "code",
   "execution_count": 7,
   "id": "edc28557-612b-40b0-add6-82aa17558882",
   "metadata": {},
   "outputs": [
    {
     "name": "stdout",
     "output_type": "stream",
     "text": [
      "3.141592653589793\n"
     ]
    }
   ],
   "source": [
    "from math import pi \n",
    "print(pi)"
   ]
  },
  {
   "cell_type": "markdown",
   "id": "6405a803-e7a0-4940-b751-908939175097",
   "metadata": {},
   "source": [
    "You could also import *everything* from the package via a wildcard '*', this is often _discouraged_ however as there may be variable conflicts when using multiple modules. "
   ]
  },
  {
   "cell_type": "code",
   "execution_count": 8,
   "id": "629fea45-8d68-4e71-b6a0-6cefd30554bf",
   "metadata": {},
   "outputs": [
    {
     "data": {
      "text/plain": [
       "-1.0"
      ]
     },
     "execution_count": 8,
     "metadata": {},
     "output_type": "execute_result"
    }
   ],
   "source": [
    "from math import *\n",
    "cos(pi)"
   ]
  },
  {
   "cell_type": "code",
   "execution_count": null,
   "id": "6389db16-193b-461a-8539-9af948f49e61",
   "metadata": {},
   "outputs": [],
   "source": []
  }
 ],
 "metadata": {
  "kernelspec": {
   "display_name": "Python 3 (ipykernel)",
   "language": "python",
   "name": "python3"
  },
  "language_info": {
   "codemirror_mode": {
    "name": "ipython",
    "version": 3
   },
   "file_extension": ".py",
   "mimetype": "text/x-python",
   "name": "python",
   "nbconvert_exporter": "python",
   "pygments_lexer": "ipython3",
   "version": "3.10.12"
  }
 },
 "nbformat": 4,
 "nbformat_minor": 5
}
