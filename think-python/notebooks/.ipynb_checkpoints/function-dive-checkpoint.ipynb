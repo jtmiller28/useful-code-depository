{
 "cells": [
  {
   "cell_type": "markdown",
   "id": "f454c89e-3e3f-4364-b8d5-b10441eb08fc",
   "metadata": {},
   "source": [
    "### Function Dive "
   ]
  },
  {
   "cell_type": "markdown",
   "id": "ea42ed58-6bfd-4fd5-8bdd-f42190fa51f0",
   "metadata": {},
   "source": [
    "Fruitful vs Void Functions"
   ]
  },
  {
   "cell_type": "code",
   "execution_count": 3,
   "id": "f50b860b-11fd-4d38-970a-9726008e4e07",
   "metadata": {},
   "outputs": [
    {
     "data": {
      "text/plain": [
       "2.23606797749979"
      ]
     },
     "execution_count": 3,
     "metadata": {},
     "output_type": "execute_result"
    }
   ],
   "source": [
    "import math as math\n",
    "math.sqrt(5) # This looks like its returning a value....but in reality its just printing it here. If this were a script it would be lost forever. "
   ]
  },
  {
   "cell_type": "code",
   "execution_count": 5,
   "id": "9a1daeac-6c4b-43a9-9378-c7edbca94a74",
   "metadata": {},
   "outputs": [],
   "source": [
    "# A more extreme example...\n",
    "def print_twice(a_string):\n",
    "    print(a_string)\n",
    "    print(a_string)"
   ]
  },
  {
   "cell_type": "code",
   "execution_count": 6,
   "id": "1a835bec-1eb9-4fd2-9c71-e2ee3f99ac17",
   "metadata": {},
   "outputs": [
    {
     "name": "stdout",
     "output_type": "stream",
     "text": [
      "example\n",
      "example\n"
     ]
    }
   ],
   "source": [
    "print_twice(\"example\")"
   ]
  },
  {
   "cell_type": "code",
   "execution_count": 7,
   "id": "125cff6d-23ae-46bf-a4a0-4d8f6b378582",
   "metadata": {},
   "outputs": [
    {
     "name": "stdout",
     "output_type": "stream",
     "text": [
      "example\n",
      "example\n"
     ]
    }
   ],
   "source": [
    "x = print_twice(\"example\")"
   ]
  },
  {
   "cell_type": "code",
   "execution_count": 10,
   "id": "6eff6fc0-25ae-447b-b5b7-baed1fc20cc1",
   "metadata": {},
   "outputs": [
    {
     "name": "stdout",
     "output_type": "stream",
     "text": [
      "None\n"
     ]
    }
   ],
   "source": [
    "print(x) # shows that there isnt really a value created, this is referred to as void function"
   ]
  },
  {
   "cell_type": "markdown",
   "id": "74fa5d67-cef9-4f9f-af3d-67233b664355",
   "metadata": {},
   "source": [
    "So, a void value is not retained. "
   ]
  },
  {
   "cell_type": "code",
   "execution_count": null,
   "id": "a618a0c0-39f3-4e43-90bf-df874dd96bb5",
   "metadata": {},
   "outputs": [],
   "source": []
  }
 ],
 "metadata": {
  "kernelspec": {
   "display_name": "Python 3 (ipykernel)",
   "language": "python",
   "name": "python3"
  },
  "language_info": {
   "codemirror_mode": {
    "name": "ipython",
    "version": 3
   },
   "file_extension": ".py",
   "mimetype": "text/x-python",
   "name": "python",
   "nbconvert_exporter": "python",
   "pygments_lexer": "ipython3",
   "version": "3.10.12"
  }
 },
 "nbformat": 4,
 "nbformat_minor": 5
}
