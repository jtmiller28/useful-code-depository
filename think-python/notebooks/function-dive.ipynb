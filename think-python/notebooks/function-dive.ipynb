{
 "cells": [
  {
   "cell_type": "markdown",
   "id": "f454c89e-3e3f-4364-b8d5-b10441eb08fc",
   "metadata": {},
   "source": [
    "### Function Dive "
   ]
  },
  {
   "cell_type": "markdown",
   "id": "ea42ed58-6bfd-4fd5-8bdd-f42190fa51f0",
   "metadata": {},
   "source": [
    "Fruitful vs Void Functions"
   ]
  },
  {
   "cell_type": "code",
   "execution_count": 3,
   "id": "f50b860b-11fd-4d38-970a-9726008e4e07",
   "metadata": {},
   "outputs": [
    {
     "data": {
      "text/plain": [
       "2.23606797749979"
      ]
     },
     "execution_count": 3,
     "metadata": {},
     "output_type": "execute_result"
    }
   ],
   "source": [
    "import math as math\n",
    "math.sqrt(5) # This looks like its returning a value....but in reality its just printing it here. If this were a script it would be lost forever. "
   ]
  },
  {
   "cell_type": "code",
   "execution_count": 5,
   "id": "9a1daeac-6c4b-43a9-9378-c7edbca94a74",
   "metadata": {},
   "outputs": [],
   "source": [
    "# A more extreme example...\n",
    "def print_twice(a_string):\n",
    "    print(a_string)\n",
    "    print(a_string)"
   ]
  },
  {
   "cell_type": "code",
   "execution_count": 6,
   "id": "1a835bec-1eb9-4fd2-9c71-e2ee3f99ac17",
   "metadata": {},
   "outputs": [
    {
     "name": "stdout",
     "output_type": "stream",
     "text": [
      "example\n",
      "example\n"
     ]
    }
   ],
   "source": [
    "print_twice(\"example\")"
   ]
  },
  {
   "cell_type": "code",
   "execution_count": 7,
   "id": "125cff6d-23ae-46bf-a4a0-4d8f6b378582",
   "metadata": {},
   "outputs": [
    {
     "name": "stdout",
     "output_type": "stream",
     "text": [
      "example\n",
      "example\n"
     ]
    }
   ],
   "source": [
    "x = print_twice(\"example\")"
   ]
  },
  {
   "cell_type": "code",
   "execution_count": 10,
   "id": "6eff6fc0-25ae-447b-b5b7-baed1fc20cc1",
   "metadata": {},
   "outputs": [
    {
     "name": "stdout",
     "output_type": "stream",
     "text": [
      "None\n"
     ]
    }
   ],
   "source": [
    "print(x) # shows that there isnt really a value created, this is referred to as void function"
   ]
  },
  {
   "cell_type": "markdown",
   "id": "74fa5d67-cef9-4f9f-af3d-67233b664355",
   "metadata": {},
   "source": [
    "So, a void value is not retained. "
   ]
  },
  {
   "cell_type": "markdown",
   "id": "25b3766c-1bbc-498e-97e6-400413e40dca",
   "metadata": {},
   "source": [
    "### Exercises"
   ]
  },
  {
   "cell_type": "markdown",
   "id": "1d0cfc56-0a1b-4b8e-8f4c-655745b42f89",
   "metadata": {},
   "source": [
    "Write a function called right_justify that takes a string named s as a parameter and prints the string with enough leading space so that the last letter of the string is in column 70 of the display"
   ]
  },
  {
   "cell_type": "code",
   "execution_count": 6,
   "id": "033f94ba-5191-4602-87d9-eb375981e227",
   "metadata": {},
   "outputs": [],
   "source": [
    "def right_justify(s):\n",
    "    print(' '*70, s)"
   ]
  },
  {
   "cell_type": "code",
   "execution_count": 7,
   "id": "37d06c3b-1c1f-4674-b66f-4c72f7850561",
   "metadata": {},
   "outputs": [
    {
     "name": "stdout",
     "output_type": "stream",
     "text": [
      "                                                                       allen\n"
     ]
    }
   ],
   "source": [
    "right_justify('allen')"
   ]
  },
  {
   "cell_type": "code",
   "execution_count": 32,
   "id": "2892ca0f-cd8c-45fe-85a2-e068c0b5f3ab",
   "metadata": {},
   "outputs": [],
   "source": [
    "def make_grid(rows, cols):\n",
    "    r = ['+','- - - -', '+', '- - - -', '+']\n",
    "    c = ['|', ' '*7, '|', ' '*7, '|']\n",
    "    print(r)\n",
    "    print(c)*4\n",
    "    print(r) \n",
    "    print(c)*4\n",
    "    print(r)\n"
   ]
  },
  {
   "cell_type": "code",
   "execution_count": 33,
   "id": "01074e35-00cf-4a6a-ae3a-b1f28739312e",
   "metadata": {},
   "outputs": [
    {
     "name": "stdout",
     "output_type": "stream",
     "text": [
      "['+', '- - - -', '+', '- - - -', '+']\n",
      "['|', '       ', '|', '       ', '|']\n"
     ]
    },
    {
     "ename": "TypeError",
     "evalue": "unsupported operand type(s) for *: 'NoneType' and 'int'",
     "output_type": "error",
     "traceback": [
      "\u001b[0;31m---------------------------------------------------------------------------\u001b[0m",
      "\u001b[0;31mTypeError\u001b[0m                                 Traceback (most recent call last)",
      "Cell \u001b[0;32mIn[33], line 1\u001b[0m\n\u001b[0;32m----> 1\u001b[0m \u001b[43mmake_grid\u001b[49m\u001b[43m(\u001b[49m\u001b[38;5;241;43m1\u001b[39;49m\u001b[43m,\u001b[49m\u001b[38;5;241;43m1\u001b[39;49m\u001b[43m)\u001b[49m\n",
      "Cell \u001b[0;32mIn[32], line 5\u001b[0m, in \u001b[0;36mmake_grid\u001b[0;34m(rows, cols)\u001b[0m\n\u001b[1;32m      3\u001b[0m c \u001b[38;5;241m=\u001b[39m [\u001b[38;5;124m'\u001b[39m\u001b[38;5;124m|\u001b[39m\u001b[38;5;124m'\u001b[39m, \u001b[38;5;124m'\u001b[39m\u001b[38;5;124m \u001b[39m\u001b[38;5;124m'\u001b[39m\u001b[38;5;241m*\u001b[39m\u001b[38;5;241m7\u001b[39m, \u001b[38;5;124m'\u001b[39m\u001b[38;5;124m|\u001b[39m\u001b[38;5;124m'\u001b[39m, \u001b[38;5;124m'\u001b[39m\u001b[38;5;124m \u001b[39m\u001b[38;5;124m'\u001b[39m\u001b[38;5;241m*\u001b[39m\u001b[38;5;241m7\u001b[39m, \u001b[38;5;124m'\u001b[39m\u001b[38;5;124m|\u001b[39m\u001b[38;5;124m'\u001b[39m]\n\u001b[1;32m      4\u001b[0m \u001b[38;5;28mprint\u001b[39m(r)\n\u001b[0;32m----> 5\u001b[0m \u001b[38;5;28;43mprint\u001b[39;49m\u001b[43m(\u001b[49m\u001b[43mc\u001b[49m\u001b[43m)\u001b[49m\u001b[38;5;241;43m*\u001b[39;49m\u001b[38;5;241;43m4\u001b[39;49m\n\u001b[1;32m      6\u001b[0m \u001b[38;5;28mprint\u001b[39m(r) \n\u001b[1;32m      7\u001b[0m \u001b[38;5;28mprint\u001b[39m(c)\u001b[38;5;241m*\u001b[39m\u001b[38;5;241m4\u001b[39m\n",
      "\u001b[0;31mTypeError\u001b[0m: unsupported operand type(s) for *: 'NoneType' and 'int'"
     ]
    }
   ],
   "source": [
    "make_grid(1,1)"
   ]
  },
  {
   "cell_type": "code",
   "execution_count": null,
   "id": "2ce7f2a5-2853-4713-8078-e0ade85da192",
   "metadata": {},
   "outputs": [],
   "source": []
  }
 ],
 "metadata": {
  "kernelspec": {
   "display_name": "Python 3 (ipykernel)",
   "language": "python",
   "name": "python3"
  },
  "language_info": {
   "codemirror_mode": {
    "name": "ipython",
    "version": 3
   },
   "file_extension": ".py",
   "mimetype": "text/x-python",
   "name": "python",
   "nbconvert_exporter": "python",
   "pygments_lexer": "ipython3",
   "version": "3.10.12"
  }
 },
 "nbformat": 4,
 "nbformat_minor": 5
}
